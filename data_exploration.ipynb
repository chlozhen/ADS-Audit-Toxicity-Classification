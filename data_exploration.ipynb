{
 "cells": [
  {
   "cell_type": "code",
   "execution_count": 23,
   "metadata": {
    "_cell_guid": "b1076dfc-b9ad-4769-8c92-a6c4dae69d19",
    "_uuid": "8f2839f25d086af736a60e9eeb907d3b93b6e0e5"
   },
   "outputs": [
    {
     "name": "stdout",
     "output_type": "stream",
     "text": [
      "['all_data.csv', 'crawl-300d-2M.vec', 'glove.6B.100d.txt', 'glove.840B.300d.txt', 'identity_individual_annotations.csv', 'sample_submission.csv', 'test.csv', 'test_private_expanded.csv', 'test_public_expanded.csv', 'toxicity_individual_annotations.csv', 'train.csv']\n"
     ]
    }
   ],
   "source": [
    "# This Python 3 environment comes with many helpful analytics libraries installed\n",
    "# It is defined by the kaggle/python docker image: https://github.com/kaggle/docker-python\n",
    "# For example, here's several helpful packages to load in \n",
    "\n",
    "import numpy as np # linear algebra\n",
    "import pandas as pd # data processing, CSV file I/O (e.g. pd.read_csv)\n",
    "\n",
    "# Input data files are available in the \"../input/\" directory.\n",
    "# For example, running this (by clicking run or pressing Shift+Enter) will list the files in the input directory\n",
    "\n",
    "import os\n",
    "print(os.listdir(\"../data\"))\n",
    "# print(os.listdir(\"../input/glove-global-vectors-for-word-representation\"))\n",
    "# print(os.listdir(\"../input/jigsaw-unintended-bias-in-toxicity-classification\"))\n",
    "\n",
    "# Any results you write to the current directory are saved as output."
   ]
  },
  {
   "cell_type": "code",
   "execution_count": 24,
   "metadata": {
    "_cell_guid": "79c7e3d0-c299-4dcb-8224-4455121ee9b0",
    "_uuid": "d629ff2d2480ee46fbb7e2d37f6b5fab8052498a",
    "jupyter": {
     "outputs_hidden": true
    }
   },
   "outputs": [],
   "source": [
    "from __future__ import absolute_import\n",
    "from __future__ import division\n",
    "from __future__ import print_function\n",
    "\n",
    "import datetime\n",
    "import os\n",
    "import pandas as pd\n",
    "import numpy as np\n",
    "import pkg_resources\n",
    "import seaborn as sns\n",
    "import time\n",
    "import scipy.stats as stats\n",
    "\n",
    "from sklearn import metrics\n",
    "from sklearn import model_selection\n",
    "\n",
    "from keras.preprocessing.text import Tokenizer\n",
    "from tensorflow.keras.utils import to_categorical\n",
    "from keras.preprocessing.sequence import pad_sequences\n",
    "from keras.layers import Embedding\n",
    "from keras.layers import Input\n",
    "from keras.layers import Conv1D\n",
    "from keras.layers import MaxPooling1D\n",
    "from keras.layers import Flatten\n",
    "from keras.layers import Dropout\n",
    "from keras.layers import Dense\n",
    "from tensorflow.keras.optimizers import RMSprop\n",
    "from keras.models import Model\n",
    "from keras.models import load_model"
   ]
  },
  {
   "cell_type": "markdown",
   "metadata": {},
   "source": [
    "## Load and pre-process the data set"
   ]
  },
  {
   "cell_type": "code",
   "execution_count": 25,
   "metadata": {},
   "outputs": [
    {
     "name": "stdout",
     "output_type": "stream",
     "text": [
      "loaded 1804874 records\n"
     ]
    }
   ],
   "source": [
    "#train = pd.read_csv('../data/train.csv', nrows=1000)\n",
    "train = pd.read_csv('../data/train.csv')\n",
    "print('loaded %d records' % len(train))\n",
    "\n",
    "# Make sure all comment_text values are strings\n",
    "train['comment_text'] = train['comment_text'].astype(str) \n",
    "\n",
    "# List all identities\n",
    "identity_columns = [\n",
    "    'male', 'female', 'homosexual_gay_or_lesbian', 'christian', 'jewish',\n",
    "    'muslim', 'black', 'white', 'psychiatric_or_mental_illness']\n",
    "\n",
    "# Convert taget and identity columns to booleans\n",
    "def convert_to_bool(df, col_name):\n",
    "    df[col_name] = np.where(df[col_name] >= 0.5, True, False)\n",
    "    \n",
    "def convert_dataframe_to_bool(df):\n",
    "    bool_df = df.copy()\n",
    "    for col in ['target'] + identity_columns:\n",
    "        convert_to_bool(bool_df, col)\n",
    "    return bool_df\n",
    "\n",
    "train = convert_dataframe_to_bool(train)"
   ]
  },
  {
   "cell_type": "code",
   "execution_count": 26,
   "metadata": {},
   "outputs": [],
   "source": [
    "identity_columns_all = [\n",
    "    'asian', 'atheist', 'bisexual',\n",
    "    'black', 'buddhist', 'christian', 'female', 'heterosexual', 'hindu',\n",
    "    'homosexual_gay_or_lesbian', 'intellectual_or_learning_disability',\n",
    "    'jewish', 'latino', 'male', 'muslim', 'other_disability',\n",
    "    'other_gender', 'other_race_or_ethnicity', 'other_religion',\n",
    "    'other_sexual_orientation', 'physical_disability',\n",
    "    'psychiatric_or_mental_illness', 'transgender', 'white'\n",
    "]"
   ]
  },
  {
   "cell_type": "markdown",
   "metadata": {},
   "source": [
    "### Subset training data for ease of computation"
   ]
  },
  {
   "cell_type": "code",
   "execution_count": 27,
   "metadata": {},
   "outputs": [],
   "source": [
    "train = train.sample(frac=0.1, random_state=0)"
   ]
  },
  {
   "cell_type": "code",
   "execution_count": 33,
   "metadata": {},
   "outputs": [
    {
     "data": {
      "text/plain": [
       "0.08088117149711614"
      ]
     },
     "execution_count": 33,
     "metadata": {},
     "output_type": "execute_result"
    }
   ],
   "source": [
    "## Target base rate\n",
    "train.target.mean()"
   ]
  },
  {
   "cell_type": "code",
   "execution_count": 42,
   "metadata": {},
   "outputs": [
    {
     "data": {
      "text/plain": [
       "'I think it conservative idiots who cannot react in proportion.'"
      ]
     },
     "execution_count": 42,
     "metadata": {},
     "output_type": "execute_result"
    }
   ],
   "source": [
    "train[train.target==1].comment_text.iloc[8]"
   ]
  },
  {
   "cell_type": "code",
   "execution_count": 54,
   "metadata": {},
   "outputs": [
    {
     "data": {
      "text/plain": [
       "\"So, it's every person for his or her miserable selfish self, huh Kyle?\""
      ]
     },
     "execution_count": 54,
     "metadata": {},
     "output_type": "execute_result"
    }
   ],
   "source": [
    "train[train.target==1].comment_text.iloc[19]"
   ]
  },
  {
   "cell_type": "markdown",
   "metadata": {},
   "source": [
    "## Split the data into 80% train and 20% validate sets"
   ]
  },
  {
   "cell_type": "code",
   "execution_count": 28,
   "metadata": {},
   "outputs": [
    {
     "name": "stdout",
     "output_type": "stream",
     "text": [
      "144389 train comments, 36098 validate comments\n"
     ]
    }
   ],
   "source": [
    "train_df, validate_df = model_selection.train_test_split(train, test_size=0.2, random_state=0)\n",
    "print('%d train comments, %d validate comments' % (len(train_df), len(validate_df)))\n"
   ]
  },
  {
   "cell_type": "markdown",
   "metadata": {},
   "source": [
    "## Create a text tokenizer"
   ]
  },
  {
   "cell_type": "code",
   "execution_count": null,
   "metadata": {},
   "outputs": [],
   "source": [
    "MAX_NUM_WORDS = 10000\n",
    "TOXICITY_COLUMN = 'target'\n",
    "TEXT_COLUMN = 'comment_text'\n",
    "\n",
    "# Create a text tokenizer.\n",
    "tokenizer = Tokenizer(num_words=MAX_NUM_WORDS)\n",
    "tokenizer.fit_on_texts(train_df[TEXT_COLUMN])\n",
    "\n",
    "# All comments must be truncated or padded to be the same length.\n",
    "MAX_SEQUENCE_LENGTH = 250\n",
    "def pad_text(texts, tokenizer):\n",
    "    return pad_sequences(tokenizer.texts_to_sequences(texts), maxlen=MAX_SEQUENCE_LENGTH)"
   ]
  },
  {
   "cell_type": "markdown",
   "metadata": {},
   "source": [
    "## Define and train a Convolutional Neural Net for classifying toxic comments"
   ]
  },
  {
   "cell_type": "code",
   "execution_count": null,
   "metadata": {},
   "outputs": [],
   "source": [
    "EMBEDDINGS_PATH = '../data/glove.6B.100d.txt'\n",
    "EMBEDDINGS_DIMENSION = 100\n",
    "DROPOUT_RATE = 0.3\n",
    "LEARNING_RATE = 0.00005\n",
    "NUM_EPOCHS = 10\n",
    "BATCH_SIZE = 128\n",
    "\n",
    "def train_model(train_df, validate_df, tokenizer):\n",
    "    # Prepare data\n",
    "    train_text = pad_text(train_df[TEXT_COLUMN], tokenizer)\n",
    "    train_labels = to_categorical(train_df[TOXICITY_COLUMN])\n",
    "    validate_text = pad_text(validate_df[TEXT_COLUMN], tokenizer)\n",
    "    validate_labels = to_categorical(validate_df[TOXICITY_COLUMN])\n",
    "\n",
    "    # Load embeddings\n",
    "    print('loading embeddings')\n",
    "    embeddings_index = {}\n",
    "    with open(EMBEDDINGS_PATH, encoding=\"utf-8\") as f:\n",
    "        for line in f:\n",
    "            values = line.split()\n",
    "            word = values[0]\n",
    "            coefs = np.asarray(values[1:], dtype='float32')\n",
    "            embeddings_index[word] = coefs\n",
    "\n",
    "    embedding_matrix = np.zeros((len(tokenizer.word_index) + 1,\n",
    "                                 EMBEDDINGS_DIMENSION))\n",
    "    num_words_in_embedding = 0\n",
    "    for word, i in tokenizer.word_index.items():\n",
    "        embedding_vector = embeddings_index.get(word)\n",
    "        if embedding_vector is not None:\n",
    "            num_words_in_embedding += 1\n",
    "            # words not found in embedding index will be all-zeros.\n",
    "            embedding_matrix[i] = embedding_vector\n",
    "\n",
    "    # Create model layers.\n",
    "    def get_convolutional_neural_net_layers():\n",
    "        \"\"\"Returns (input_layer, output_layer)\"\"\"\n",
    "        sequence_input = Input(shape=(MAX_SEQUENCE_LENGTH,), dtype='int32')\n",
    "        embedding_layer = Embedding(len(tokenizer.word_index) + 1,\n",
    "                                    EMBEDDINGS_DIMENSION,\n",
    "                                    weights=[embedding_matrix],\n",
    "                                    input_length=MAX_SEQUENCE_LENGTH,\n",
    "                                    trainable=False)\n",
    "        x = embedding_layer(sequence_input)\n",
    "        x = Conv1D(128, 2, activation='relu', padding='same')(x)\n",
    "        x = MaxPooling1D(5, padding='same')(x)\n",
    "        x = Conv1D(128, 3, activation='relu', padding='same')(x)\n",
    "        x = MaxPooling1D(5, padding='same')(x)\n",
    "        x = Conv1D(128, 4, activation='relu', padding='same')(x)\n",
    "        x = MaxPooling1D(40, padding='same')(x)\n",
    "        x = Flatten()(x)\n",
    "        x = Dropout(DROPOUT_RATE)(x)\n",
    "        x = Dense(128, activation='relu')(x)\n",
    "        preds = Dense(2, activation='softmax')(x)\n",
    "        return sequence_input, preds\n",
    "\n",
    "    # Compile model.\n",
    "    print('compiling model')\n",
    "    input_layer, output_layer = get_convolutional_neural_net_layers()\n",
    "    model = Model(input_layer, output_layer)\n",
    "    model.compile(loss='categorical_crossentropy',\n",
    "                  optimizer=RMSprop(lr=LEARNING_RATE),\n",
    "                  metrics=['acc'])\n",
    "\n",
    "    # Train model.\n",
    "    print('training model')\n",
    "    model.fit(train_text,\n",
    "              train_labels,\n",
    "              batch_size=BATCH_SIZE,\n",
    "              epochs=NUM_EPOCHS,\n",
    "              validation_data=(validate_text, validate_labels),\n",
    "              verbose=2)\n",
    "\n",
    "    return model\n",
    "\n",
    "model = train_model(train_df, validate_df, tokenizer)"
   ]
  },
  {
   "cell_type": "markdown",
   "metadata": {},
   "source": [
    "## Generate model predictions on the validation set"
   ]
  },
  {
   "cell_type": "code",
   "execution_count": null,
   "metadata": {},
   "outputs": [],
   "source": [
    "MODEL_NAME = 'my_model'\n",
    "validate_df[MODEL_NAME] = model.predict(pad_text(validate_df[TEXT_COLUMN], tokenizer))[:, 1]"
   ]
  },
  {
   "cell_type": "code",
   "execution_count": null,
   "metadata": {},
   "outputs": [],
   "source": [
    "validate_df.head()"
   ]
  },
  {
   "cell_type": "markdown",
   "metadata": {},
   "source": [
    "## Define bias metrics, then evaluate our new model for bias using the validation set predictions"
   ]
  },
  {
   "cell_type": "code",
   "execution_count": null,
   "metadata": {},
   "outputs": [],
   "source": [
    "SUBGROUP_AUC = 'subgroup_auc'\n",
    "BPSN_AUC = 'bpsn_auc'  # stands for background positive, subgroup negative\n",
    "BNSP_AUC = 'bnsp_auc'  # stands for background negative, subgroup positive\n",
    "\n",
    "def compute_auc(y_true, y_pred):\n",
    "    try:\n",
    "        return metrics.roc_auc_score(y_true, y_pred)\n",
    "    except ValueError:\n",
    "        return np.nan\n",
    "\n",
    "def compute_subgroup_auc(df, subgroup, label, model_name):\n",
    "    subgroup_examples = df[df[subgroup]]\n",
    "    return compute_auc(subgroup_examples[label], subgroup_examples[model_name])\n",
    "\n",
    "def compute_bpsn_auc(df, subgroup, label, model_name):\n",
    "    \"\"\"Computes the AUC of the within-subgroup negative examples and the background positive examples.\"\"\"\n",
    "    subgroup_negative_examples = df[df[subgroup] & ~df[label]]\n",
    "    non_subgroup_positive_examples = df[~df[subgroup] & df[label]]\n",
    "    examples = subgroup_negative_examples.append(non_subgroup_positive_examples)\n",
    "    return compute_auc(examples[label], examples[model_name])\n",
    "\n",
    "def compute_bnsp_auc(df, subgroup, label, model_name):\n",
    "    \"\"\"Computes the AUC of the within-subgroup positive examples and the background negative examples.\"\"\"\n",
    "    subgroup_positive_examples = df[df[subgroup] & df[label]]\n",
    "    non_subgroup_negative_examples = df[~df[subgroup] & ~df[label]]\n",
    "    examples = subgroup_positive_examples.append(non_subgroup_negative_examples)\n",
    "    return compute_auc(examples[label], examples[model_name])\n",
    "\n",
    "def compute_bias_metrics_for_model(dataset,\n",
    "                                   subgroups,\n",
    "                                   model,\n",
    "                                   label_col,\n",
    "                                   include_asegs=False):\n",
    "    \"\"\"Computes per-subgroup metrics for all subgroups and one model.\"\"\"\n",
    "    records = []\n",
    "    for subgroup in subgroups:\n",
    "        record = {\n",
    "            'subgroup': subgroup,\n",
    "            'subgroup_size': len(dataset[dataset[subgroup]])\n",
    "        }\n",
    "        record[SUBGROUP_AUC] = compute_subgroup_auc(dataset, subgroup, label_col, model)\n",
    "        record[BPSN_AUC] = compute_bpsn_auc(dataset, subgroup, label_col, model)\n",
    "        record[BNSP_AUC] = compute_bnsp_auc(dataset, subgroup, label_col, model)\n",
    "        records.append(record)\n",
    "    return pd.DataFrame(records).sort_values('subgroup_auc', ascending=True)\n",
    "\n",
    "bias_metrics_df = compute_bias_metrics_for_model(validate_df, identity_columns, MODEL_NAME, TOXICITY_COLUMN)\n",
    "bias_metrics_df\n"
   ]
  },
  {
   "cell_type": "code",
   "execution_count": null,
   "metadata": {},
   "outputs": [],
   "source": [
    "bias_metrics_df = compute_bias_metrics_for_model(validate_df, identity_columns_all, MODEL_NAME, TOXICITY_COLUMN)\n",
    "bias_metrics_df"
   ]
  },
  {
   "cell_type": "markdown",
   "metadata": {},
   "source": [
    "## Calculate the final score"
   ]
  },
  {
   "cell_type": "code",
   "execution_count": null,
   "metadata": {},
   "outputs": [],
   "source": [
    "def calculate_overall_auc(df, model_name):\n",
    "    true_labels = df[TOXICITY_COLUMN]\n",
    "    predicted_labels = df[model_name]\n",
    "    return metrics.roc_auc_score(true_labels, predicted_labels)\n",
    "\n",
    "def power_mean(series, p):\n",
    "    total = sum(np.power(series, p))\n",
    "    return np.power(total / len(series), 1 / p)\n",
    "\n",
    "def get_final_metric(bias_df, overall_auc, POWER=-5, OVERALL_MODEL_WEIGHT=0.25):\n",
    "    bias_score = np.average([\n",
    "        power_mean(bias_df[SUBGROUP_AUC], POWER),\n",
    "        power_mean(bias_df[BPSN_AUC], POWER),\n",
    "        power_mean(bias_df[BNSP_AUC], POWER)\n",
    "    ])\n",
    "    return (OVERALL_MODEL_WEIGHT * overall_auc) + ((1 - OVERALL_MODEL_WEIGHT) * bias_score)\n",
    "    \n",
    "get_final_metric(bias_metrics_df, calculate_overall_auc(validate_df, MODEL_NAME))"
   ]
  },
  {
   "cell_type": "markdown",
   "metadata": {},
   "source": [
    "## Prediction on Test data"
   ]
  },
  {
   "cell_type": "code",
   "execution_count": null,
   "metadata": {},
   "outputs": [],
   "source": [
    "test = pd.read_csv('../data/test.csv')\n",
    "submission = pd.read_csv('../data/sample_submission.csv', index_col='id')"
   ]
  },
  {
   "cell_type": "code",
   "execution_count": null,
   "metadata": {},
   "outputs": [],
   "source": [
    "test.shape"
   ]
  },
  {
   "cell_type": "code",
   "execution_count": null,
   "metadata": {},
   "outputs": [],
   "source": [
    "#submission['prediction'] = model.predict(pad_text(test[TEXT_COLUMN], tokenizer))[:, 1]\n",
    "# submission.to_csv('submission.csv')"
   ]
  },
  {
   "cell_type": "markdown",
   "metadata": {},
   "source": [
    "---"
   ]
  },
  {
   "cell_type": "markdown",
   "metadata": {},
   "source": [
    "### Input data"
   ]
  },
  {
   "cell_type": "markdown",
   "metadata": {},
   "source": [
    "#### Raw data"
   ]
  },
  {
   "cell_type": "code",
   "execution_count": 29,
   "metadata": {},
   "outputs": [],
   "source": [
    "train_desc = train.dtypes.to_frame(name=\"type\")\n",
    "train_desc[\"missing_prop\"] = [train[col].isnull().sum() / train.shape[0] for col in train_desc.index]\n",
    "\n",
    "## Distribution of numeric columns\n",
    "train_desc_numeric = train_desc[\n",
    "    (train_desc.type==\"int64\") | (train_desc.type==\"float64\")\n",
    "].copy()\n",
    "train_desc_numeric[\"mean\"] = [train[col].mean() for col in train_desc_numeric.index]\n",
    "train_desc_numeric[\"median\"] = [train[col].median() for col in train_desc_numeric.index]\n",
    "train_desc_numeric[\"std\"] = [train[col].std() for col in train_desc_numeric.index]\n",
    "train_desc_numeric[\"min\"] = [train[col].min() for col in train_desc_numeric.index]\n",
    "train_desc_numeric[\"max\"] = [train[col].max() for col in train_desc_numeric.index]\n",
    "train_desc_numeric.drop(columns=[\"type\", \"missing_prop\"], inplace=True)\n",
    "\n",
    "## Find proportion of true values for booleans\n",
    "train_desc_bool = train_desc[(train_desc.type==\"bool\")].copy()\n",
    "train_desc_bool[\"mean\"] = [train[col].mean() for col in train_desc_bool.index]\n",
    "train_desc_bool.drop(columns=[\"type\", \"missing_prop\"], inplace=True)\n",
    "\n",
    "## Combine stats\n",
    "train_desc_nonstr = pd.concat([train_desc_numeric, train_desc_bool])\n",
    "train_desc = pd.concat([train_desc, train_desc_nonstr], axis=1)\n",
    "\n",
    "## Get rid of id features and target\n",
    "train_desc = train_desc[~train_desc.index.str.endswith(\"id\")]\n",
    "train_desc.drop(index=\"target\", inplace=True)"
   ]
  },
  {
   "cell_type": "code",
   "execution_count": 32,
   "metadata": {},
   "outputs": [
    {
     "data": {
      "text/html": [
       "<div>\n",
       "<style scoped>\n",
       "    .dataframe tbody tr th:only-of-type {\n",
       "        vertical-align: middle;\n",
       "    }\n",
       "\n",
       "    .dataframe tbody tr th {\n",
       "        vertical-align: top;\n",
       "    }\n",
       "\n",
       "    .dataframe thead th {\n",
       "        text-align: right;\n",
       "    }\n",
       "</style>\n",
       "<table border=\"1\" class=\"dataframe\">\n",
       "  <thead>\n",
       "    <tr style=\"text-align: right;\">\n",
       "      <th></th>\n",
       "      <th>type</th>\n",
       "      <th>missing_prop</th>\n",
       "      <th>mean</th>\n",
       "      <th>median</th>\n",
       "      <th>std</th>\n",
       "      <th>min</th>\n",
       "      <th>max</th>\n",
       "    </tr>\n",
       "  </thead>\n",
       "  <tbody>\n",
       "    <tr>\n",
       "      <th>comment_text</th>\n",
       "      <td>object</td>\n",
       "      <td>0.000000</td>\n",
       "      <td>NaN</td>\n",
       "      <td>NaN</td>\n",
       "      <td>NaN</td>\n",
       "      <td>NaN</td>\n",
       "      <td>NaN</td>\n",
       "    </tr>\n",
       "    <tr>\n",
       "      <th>severe_toxicity</th>\n",
       "      <td>float64</td>\n",
       "      <td>0.000000</td>\n",
       "      <td>0.004656</td>\n",
       "      <td>0.0</td>\n",
       "      <td>0.022997</td>\n",
       "      <td>0.0</td>\n",
       "      <td>0.600000</td>\n",
       "    </tr>\n",
       "    <tr>\n",
       "      <th>obscene</th>\n",
       "      <td>float64</td>\n",
       "      <td>0.000000</td>\n",
       "      <td>0.014258</td>\n",
       "      <td>0.0</td>\n",
       "      <td>0.066188</td>\n",
       "      <td>0.0</td>\n",
       "      <td>1.000000</td>\n",
       "    </tr>\n",
       "    <tr>\n",
       "      <th>identity_attack</th>\n",
       "      <td>float64</td>\n",
       "      <td>0.000000</td>\n",
       "      <td>0.022551</td>\n",
       "      <td>0.0</td>\n",
       "      <td>0.078741</td>\n",
       "      <td>0.0</td>\n",
       "      <td>1.000000</td>\n",
       "    </tr>\n",
       "    <tr>\n",
       "      <th>insult</th>\n",
       "      <td>float64</td>\n",
       "      <td>0.000000</td>\n",
       "      <td>0.081502</td>\n",
       "      <td>0.0</td>\n",
       "      <td>0.176302</td>\n",
       "      <td>0.0</td>\n",
       "      <td>1.000000</td>\n",
       "    </tr>\n",
       "    <tr>\n",
       "      <th>threat</th>\n",
       "      <td>float64</td>\n",
       "      <td>0.000000</td>\n",
       "      <td>0.009279</td>\n",
       "      <td>0.0</td>\n",
       "      <td>0.049485</td>\n",
       "      <td>0.0</td>\n",
       "      <td>1.000000</td>\n",
       "    </tr>\n",
       "    <tr>\n",
       "      <th>asian</th>\n",
       "      <td>float64</td>\n",
       "      <td>0.775989</td>\n",
       "      <td>0.011933</td>\n",
       "      <td>0.0</td>\n",
       "      <td>0.086801</td>\n",
       "      <td>0.0</td>\n",
       "      <td>1.000000</td>\n",
       "    </tr>\n",
       "    <tr>\n",
       "      <th>atheist</th>\n",
       "      <td>float64</td>\n",
       "      <td>0.775989</td>\n",
       "      <td>0.003121</td>\n",
       "      <td>0.0</td>\n",
       "      <td>0.049543</td>\n",
       "      <td>0.0</td>\n",
       "      <td>1.000000</td>\n",
       "    </tr>\n",
       "    <tr>\n",
       "      <th>bisexual</th>\n",
       "      <td>float64</td>\n",
       "      <td>0.775989</td>\n",
       "      <td>0.001926</td>\n",
       "      <td>0.0</td>\n",
       "      <td>0.027667</td>\n",
       "      <td>0.0</td>\n",
       "      <td>1.000000</td>\n",
       "    </tr>\n",
       "    <tr>\n",
       "      <th>black</th>\n",
       "      <td>bool</td>\n",
       "      <td>0.000000</td>\n",
       "      <td>0.008549</td>\n",
       "      <td>NaN</td>\n",
       "      <td>NaN</td>\n",
       "      <td>NaN</td>\n",
       "      <td>NaN</td>\n",
       "    </tr>\n",
       "    <tr>\n",
       "      <th>buddhist</th>\n",
       "      <td>float64</td>\n",
       "      <td>0.775989</td>\n",
       "      <td>0.001635</td>\n",
       "      <td>0.0</td>\n",
       "      <td>0.032864</td>\n",
       "      <td>0.0</td>\n",
       "      <td>1.000000</td>\n",
       "    </tr>\n",
       "    <tr>\n",
       "      <th>christian</th>\n",
       "      <td>bool</td>\n",
       "      <td>0.000000</td>\n",
       "      <td>0.022517</td>\n",
       "      <td>NaN</td>\n",
       "      <td>NaN</td>\n",
       "      <td>NaN</td>\n",
       "      <td>NaN</td>\n",
       "    </tr>\n",
       "    <tr>\n",
       "      <th>female</th>\n",
       "      <td>bool</td>\n",
       "      <td>0.000000</td>\n",
       "      <td>0.029720</td>\n",
       "      <td>NaN</td>\n",
       "      <td>NaN</td>\n",
       "      <td>NaN</td>\n",
       "      <td>NaN</td>\n",
       "    </tr>\n",
       "    <tr>\n",
       "      <th>heterosexual</th>\n",
       "      <td>float64</td>\n",
       "      <td>0.775989</td>\n",
       "      <td>0.003238</td>\n",
       "      <td>0.0</td>\n",
       "      <td>0.045688</td>\n",
       "      <td>0.0</td>\n",
       "      <td>1.000000</td>\n",
       "    </tr>\n",
       "    <tr>\n",
       "      <th>hindu</th>\n",
       "      <td>float64</td>\n",
       "      <td>0.775989</td>\n",
       "      <td>0.001659</td>\n",
       "      <td>0.0</td>\n",
       "      <td>0.032680</td>\n",
       "      <td>0.0</td>\n",
       "      <td>1.000000</td>\n",
       "    </tr>\n",
       "    <tr>\n",
       "      <th>homosexual_gay_or_lesbian</th>\n",
       "      <td>bool</td>\n",
       "      <td>0.000000</td>\n",
       "      <td>0.006045</td>\n",
       "      <td>NaN</td>\n",
       "      <td>NaN</td>\n",
       "      <td>NaN</td>\n",
       "      <td>NaN</td>\n",
       "    </tr>\n",
       "    <tr>\n",
       "      <th>intellectual_or_learning_disability</th>\n",
       "      <td>float64</td>\n",
       "      <td>0.775989</td>\n",
       "      <td>0.001075</td>\n",
       "      <td>0.0</td>\n",
       "      <td>0.016295</td>\n",
       "      <td>0.0</td>\n",
       "      <td>0.800000</td>\n",
       "    </tr>\n",
       "    <tr>\n",
       "      <th>jewish</th>\n",
       "      <td>bool</td>\n",
       "      <td>0.000000</td>\n",
       "      <td>0.004022</td>\n",
       "      <td>NaN</td>\n",
       "      <td>NaN</td>\n",
       "      <td>NaN</td>\n",
       "      <td>NaN</td>\n",
       "    </tr>\n",
       "    <tr>\n",
       "      <th>latino</th>\n",
       "      <td>float64</td>\n",
       "      <td>0.775989</td>\n",
       "      <td>0.005805</td>\n",
       "      <td>0.0</td>\n",
       "      <td>0.056513</td>\n",
       "      <td>0.0</td>\n",
       "      <td>1.000000</td>\n",
       "    </tr>\n",
       "    <tr>\n",
       "      <th>male</th>\n",
       "      <td>bool</td>\n",
       "      <td>0.000000</td>\n",
       "      <td>0.024894</td>\n",
       "      <td>NaN</td>\n",
       "      <td>NaN</td>\n",
       "      <td>NaN</td>\n",
       "      <td>NaN</td>\n",
       "    </tr>\n",
       "    <tr>\n",
       "      <th>muslim</th>\n",
       "      <td>bool</td>\n",
       "      <td>0.000000</td>\n",
       "      <td>0.011735</td>\n",
       "      <td>NaN</td>\n",
       "      <td>NaN</td>\n",
       "      <td>NaN</td>\n",
       "      <td>NaN</td>\n",
       "    </tr>\n",
       "    <tr>\n",
       "      <th>other_disability</th>\n",
       "      <td>float64</td>\n",
       "      <td>0.775989</td>\n",
       "      <td>0.001168</td>\n",
       "      <td>0.0</td>\n",
       "      <td>0.013535</td>\n",
       "      <td>0.0</td>\n",
       "      <td>0.400000</td>\n",
       "    </tr>\n",
       "    <tr>\n",
       "      <th>other_gender</th>\n",
       "      <td>float64</td>\n",
       "      <td>0.775989</td>\n",
       "      <td>0.000860</td>\n",
       "      <td>0.0</td>\n",
       "      <td>0.011461</td>\n",
       "      <td>0.0</td>\n",
       "      <td>0.250000</td>\n",
       "    </tr>\n",
       "    <tr>\n",
       "      <th>other_race_or_ethnicity</th>\n",
       "      <td>float64</td>\n",
       "      <td>0.775989</td>\n",
       "      <td>0.008118</td>\n",
       "      <td>0.0</td>\n",
       "      <td>0.041905</td>\n",
       "      <td>0.0</td>\n",
       "      <td>0.857143</td>\n",
       "    </tr>\n",
       "    <tr>\n",
       "      <th>other_religion</th>\n",
       "      <td>float64</td>\n",
       "      <td>0.775989</td>\n",
       "      <td>0.006666</td>\n",
       "      <td>0.0</td>\n",
       "      <td>0.037724</td>\n",
       "      <td>0.0</td>\n",
       "      <td>1.000000</td>\n",
       "    </tr>\n",
       "    <tr>\n",
       "      <th>other_sexual_orientation</th>\n",
       "      <td>float64</td>\n",
       "      <td>0.775989</td>\n",
       "      <td>0.001457</td>\n",
       "      <td>0.0</td>\n",
       "      <td>0.014917</td>\n",
       "      <td>0.0</td>\n",
       "      <td>0.500000</td>\n",
       "    </tr>\n",
       "    <tr>\n",
       "      <th>physical_disability</th>\n",
       "      <td>float64</td>\n",
       "      <td>0.775989</td>\n",
       "      <td>0.001270</td>\n",
       "      <td>0.0</td>\n",
       "      <td>0.016765</td>\n",
       "      <td>0.0</td>\n",
       "      <td>0.600000</td>\n",
       "    </tr>\n",
       "    <tr>\n",
       "      <th>psychiatric_or_mental_illness</th>\n",
       "      <td>bool</td>\n",
       "      <td>0.000000</td>\n",
       "      <td>0.002804</td>\n",
       "      <td>NaN</td>\n",
       "      <td>NaN</td>\n",
       "      <td>NaN</td>\n",
       "      <td>NaN</td>\n",
       "    </tr>\n",
       "    <tr>\n",
       "      <th>transgender</th>\n",
       "      <td>float64</td>\n",
       "      <td>0.775989</td>\n",
       "      <td>0.006833</td>\n",
       "      <td>0.0</td>\n",
       "      <td>0.069999</td>\n",
       "      <td>0.0</td>\n",
       "      <td>1.000000</td>\n",
       "    </tr>\n",
       "    <tr>\n",
       "      <th>white</th>\n",
       "      <td>bool</td>\n",
       "      <td>0.000000</td>\n",
       "      <td>0.013951</td>\n",
       "      <td>NaN</td>\n",
       "      <td>NaN</td>\n",
       "      <td>NaN</td>\n",
       "      <td>NaN</td>\n",
       "    </tr>\n",
       "    <tr>\n",
       "      <th>created_date</th>\n",
       "      <td>object</td>\n",
       "      <td>0.000000</td>\n",
       "      <td>NaN</td>\n",
       "      <td>NaN</td>\n",
       "      <td>NaN</td>\n",
       "      <td>NaN</td>\n",
       "      <td>NaN</td>\n",
       "    </tr>\n",
       "    <tr>\n",
       "      <th>rating</th>\n",
       "      <td>object</td>\n",
       "      <td>0.000000</td>\n",
       "      <td>NaN</td>\n",
       "      <td>NaN</td>\n",
       "      <td>NaN</td>\n",
       "      <td>NaN</td>\n",
       "      <td>NaN</td>\n",
       "    </tr>\n",
       "    <tr>\n",
       "      <th>funny</th>\n",
       "      <td>int64</td>\n",
       "      <td>0.000000</td>\n",
       "      <td>0.278258</td>\n",
       "      <td>0.0</td>\n",
       "      <td>1.034031</td>\n",
       "      <td>0.0</td>\n",
       "      <td>52.000000</td>\n",
       "    </tr>\n",
       "    <tr>\n",
       "      <th>wow</th>\n",
       "      <td>int64</td>\n",
       "      <td>0.000000</td>\n",
       "      <td>0.044125</td>\n",
       "      <td>0.0</td>\n",
       "      <td>0.244807</td>\n",
       "      <td>0.0</td>\n",
       "      <td>11.000000</td>\n",
       "    </tr>\n",
       "    <tr>\n",
       "      <th>sad</th>\n",
       "      <td>int64</td>\n",
       "      <td>0.000000</td>\n",
       "      <td>0.109000</td>\n",
       "      <td>0.0</td>\n",
       "      <td>0.450457</td>\n",
       "      <td>0.0</td>\n",
       "      <td>14.000000</td>\n",
       "    </tr>\n",
       "    <tr>\n",
       "      <th>likes</th>\n",
       "      <td>int64</td>\n",
       "      <td>0.000000</td>\n",
       "      <td>2.432962</td>\n",
       "      <td>1.0</td>\n",
       "      <td>4.664847</td>\n",
       "      <td>0.0</td>\n",
       "      <td>201.000000</td>\n",
       "    </tr>\n",
       "    <tr>\n",
       "      <th>disagree</th>\n",
       "      <td>int64</td>\n",
       "      <td>0.000000</td>\n",
       "      <td>0.583815</td>\n",
       "      <td>0.0</td>\n",
       "      <td>1.877700</td>\n",
       "      <td>0.0</td>\n",
       "      <td>107.000000</td>\n",
       "    </tr>\n",
       "    <tr>\n",
       "      <th>sexual_explicit</th>\n",
       "      <td>float64</td>\n",
       "      <td>0.000000</td>\n",
       "      <td>0.006651</td>\n",
       "      <td>0.0</td>\n",
       "      <td>0.045983</td>\n",
       "      <td>0.0</td>\n",
       "      <td>1.000000</td>\n",
       "    </tr>\n",
       "    <tr>\n",
       "      <th>identity_annotator_count</th>\n",
       "      <td>int64</td>\n",
       "      <td>0.000000</td>\n",
       "      <td>1.464460</td>\n",
       "      <td>0.0</td>\n",
       "      <td>19.340032</td>\n",
       "      <td>0.0</td>\n",
       "      <td>1854.000000</td>\n",
       "    </tr>\n",
       "    <tr>\n",
       "      <th>toxicity_annotator_count</th>\n",
       "      <td>int64</td>\n",
       "      <td>0.000000</td>\n",
       "      <td>8.753705</td>\n",
       "      <td>4.0</td>\n",
       "      <td>42.172689</td>\n",
       "      <td>3.0</td>\n",
       "      <td>3623.000000</td>\n",
       "    </tr>\n",
       "  </tbody>\n",
       "</table>\n",
       "</div>"
      ],
      "text/plain": [
       "                                        type  missing_prop      mean  median  \\\n",
       "comment_text                          object      0.000000       NaN     NaN   \n",
       "severe_toxicity                      float64      0.000000  0.004656     0.0   \n",
       "obscene                              float64      0.000000  0.014258     0.0   \n",
       "identity_attack                      float64      0.000000  0.022551     0.0   \n",
       "insult                               float64      0.000000  0.081502     0.0   \n",
       "threat                               float64      0.000000  0.009279     0.0   \n",
       "asian                                float64      0.775989  0.011933     0.0   \n",
       "atheist                              float64      0.775989  0.003121     0.0   \n",
       "bisexual                             float64      0.775989  0.001926     0.0   \n",
       "black                                   bool      0.000000  0.008549     NaN   \n",
       "buddhist                             float64      0.775989  0.001635     0.0   \n",
       "christian                               bool      0.000000  0.022517     NaN   \n",
       "female                                  bool      0.000000  0.029720     NaN   \n",
       "heterosexual                         float64      0.775989  0.003238     0.0   \n",
       "hindu                                float64      0.775989  0.001659     0.0   \n",
       "homosexual_gay_or_lesbian               bool      0.000000  0.006045     NaN   \n",
       "intellectual_or_learning_disability  float64      0.775989  0.001075     0.0   \n",
       "jewish                                  bool      0.000000  0.004022     NaN   \n",
       "latino                               float64      0.775989  0.005805     0.0   \n",
       "male                                    bool      0.000000  0.024894     NaN   \n",
       "muslim                                  bool      0.000000  0.011735     NaN   \n",
       "other_disability                     float64      0.775989  0.001168     0.0   \n",
       "other_gender                         float64      0.775989  0.000860     0.0   \n",
       "other_race_or_ethnicity              float64      0.775989  0.008118     0.0   \n",
       "other_religion                       float64      0.775989  0.006666     0.0   \n",
       "other_sexual_orientation             float64      0.775989  0.001457     0.0   \n",
       "physical_disability                  float64      0.775989  0.001270     0.0   \n",
       "psychiatric_or_mental_illness           bool      0.000000  0.002804     NaN   \n",
       "transgender                          float64      0.775989  0.006833     0.0   \n",
       "white                                   bool      0.000000  0.013951     NaN   \n",
       "created_date                          object      0.000000       NaN     NaN   \n",
       "rating                                object      0.000000       NaN     NaN   \n",
       "funny                                  int64      0.000000  0.278258     0.0   \n",
       "wow                                    int64      0.000000  0.044125     0.0   \n",
       "sad                                    int64      0.000000  0.109000     0.0   \n",
       "likes                                  int64      0.000000  2.432962     1.0   \n",
       "disagree                               int64      0.000000  0.583815     0.0   \n",
       "sexual_explicit                      float64      0.000000  0.006651     0.0   \n",
       "identity_annotator_count               int64      0.000000  1.464460     0.0   \n",
       "toxicity_annotator_count               int64      0.000000  8.753705     4.0   \n",
       "\n",
       "                                           std  min          max  \n",
       "comment_text                               NaN  NaN          NaN  \n",
       "severe_toxicity                       0.022997  0.0     0.600000  \n",
       "obscene                               0.066188  0.0     1.000000  \n",
       "identity_attack                       0.078741  0.0     1.000000  \n",
       "insult                                0.176302  0.0     1.000000  \n",
       "threat                                0.049485  0.0     1.000000  \n",
       "asian                                 0.086801  0.0     1.000000  \n",
       "atheist                               0.049543  0.0     1.000000  \n",
       "bisexual                              0.027667  0.0     1.000000  \n",
       "black                                      NaN  NaN          NaN  \n",
       "buddhist                              0.032864  0.0     1.000000  \n",
       "christian                                  NaN  NaN          NaN  \n",
       "female                                     NaN  NaN          NaN  \n",
       "heterosexual                          0.045688  0.0     1.000000  \n",
       "hindu                                 0.032680  0.0     1.000000  \n",
       "homosexual_gay_or_lesbian                  NaN  NaN          NaN  \n",
       "intellectual_or_learning_disability   0.016295  0.0     0.800000  \n",
       "jewish                                     NaN  NaN          NaN  \n",
       "latino                                0.056513  0.0     1.000000  \n",
       "male                                       NaN  NaN          NaN  \n",
       "muslim                                     NaN  NaN          NaN  \n",
       "other_disability                      0.013535  0.0     0.400000  \n",
       "other_gender                          0.011461  0.0     0.250000  \n",
       "other_race_or_ethnicity               0.041905  0.0     0.857143  \n",
       "other_religion                        0.037724  0.0     1.000000  \n",
       "other_sexual_orientation              0.014917  0.0     0.500000  \n",
       "physical_disability                   0.016765  0.0     0.600000  \n",
       "psychiatric_or_mental_illness              NaN  NaN          NaN  \n",
       "transgender                           0.069999  0.0     1.000000  \n",
       "white                                      NaN  NaN          NaN  \n",
       "created_date                               NaN  NaN          NaN  \n",
       "rating                                     NaN  NaN          NaN  \n",
       "funny                                 1.034031  0.0    52.000000  \n",
       "wow                                   0.244807  0.0    11.000000  \n",
       "sad                                   0.450457  0.0    14.000000  \n",
       "likes                                 4.664847  0.0   201.000000  \n",
       "disagree                              1.877700  0.0   107.000000  \n",
       "sexual_explicit                       0.045983  0.0     1.000000  \n",
       "identity_annotator_count             19.340032  0.0  1854.000000  \n",
       "toxicity_annotator_count             42.172689  3.0  3623.000000  "
      ]
     },
     "execution_count": 32,
     "metadata": {},
     "output_type": "execute_result"
    }
   ],
   "source": [
    "train_desc"
   ]
  },
  {
   "cell_type": "code",
   "execution_count": 32,
   "metadata": {},
   "outputs": [],
   "source": [
    "train_desc.to_csv(\"../output/train_description_0.1.csv\")"
   ]
  },
  {
   "cell_type": "markdown",
   "metadata": {},
   "source": [
    "## Comment examples by feature identifier"
   ]
  },
  {
   "cell_type": "code",
   "execution_count": 55,
   "metadata": {},
   "outputs": [
    {
     "data": {
      "text/plain": [
       "'I am an atheist, but I will defend Imago Dei as NOT being one of those evangelical churches that gets involved in right-wing politics or campaigning. They are involved with the social needs of the community, including the poor and needy. (Their discreet homophobia and misogyny notwithstanding.)'"
      ]
     },
     "execution_count": 55,
     "metadata": {},
     "output_type": "execute_result"
    }
   ],
   "source": [
    "## Large annotator consensus\n",
    "train[train.atheist==1].comment_text.iloc[2]"
   ]
  },
  {
   "cell_type": "code",
   "execution_count": 100,
   "metadata": {},
   "outputs": [
    {
     "data": {
      "text/plain": [
       "'Genesis 2:7, Matthew 16:25-26, John 15:13, Acts 2:41, Mt 10:28; 26:38; John 12:27, 2 Maccabees 6:30, 1 Corinthians 6:19-20; 15:44-45, and so on. Jesus promises eternal life for those who love Him and keep his commandments.\\n\\nObviously these are evidence for believing Christians and may inapplicable to atheists, agnostics, and other skeptics.'"
      ]
     },
     "execution_count": 100,
     "metadata": {},
     "output_type": "execute_result"
    }
   ],
   "source": [
    "## Medium annotator consensus\n",
    "train[(train.atheist>0.4) & (train.atheist<0.6)].comment_text.iloc[0]"
   ]
  },
  {
   "cell_type": "code",
   "execution_count": 98,
   "metadata": {},
   "outputs": [
    {
     "data": {
      "text/plain": [
       "'Orange really is the new black!'"
      ]
     },
     "execution_count": 98,
     "metadata": {},
     "output_type": "execute_result"
    }
   ],
   "source": [
    "## Low annotator consensus\n",
    "train[(train.atheist>0) & (train.atheist<0.4)].comment_text.iloc[14]"
   ]
  },
  {
   "cell_type": "code",
   "execution_count": 108,
   "metadata": {},
   "outputs": [
    {
     "data": {
      "text/plain": [
       "'Good for them!  Thank you for being there, ladies.  Pence is a conservative Christian prig who likes nothing better than “keeping them barefoot and pregnant in the kitchen.”  Save us should the likes of him become President.....'"
      ]
     },
     "execution_count": 108,
     "metadata": {},
     "output_type": "execute_result"
    }
   ],
   "source": [
    "## Christian comment\n",
    "train[train.christian].comment_text.iloc[5]"
   ]
  },
  {
   "cell_type": "code",
   "execution_count": 13,
   "metadata": {},
   "outputs": [
    {
     "data": {
      "text/plain": [
       "id                                                                               6233424\n",
       "target                                                                             False\n",
       "comment_text                           Good for them!  Thank you for being there, lad...\n",
       "severe_toxicity                                                                      0.0\n",
       "obscene                                                                              0.0\n",
       "identity_attack                                                                      0.2\n",
       "insult                                                                               0.2\n",
       "threat                                                                               0.0\n",
       "asian                                                                                0.0\n",
       "atheist                                                                              0.0\n",
       "bisexual                                                                             0.0\n",
       "black                                                                              False\n",
       "buddhist                                                                             0.0\n",
       "christian                                                                           True\n",
       "female                                                                             False\n",
       "heterosexual                                                                         0.0\n",
       "hindu                                                                                0.0\n",
       "homosexual_gay_or_lesbian                                                          False\n",
       "intellectual_or_learning_disability                                                  0.0\n",
       "jewish                                                                             False\n",
       "latino                                                                               0.0\n",
       "male                                                                               False\n",
       "muslim                                                                             False\n",
       "other_disability                                                                     0.0\n",
       "other_gender                                                                         0.0\n",
       "other_race_or_ethnicity                                                              0.0\n",
       "other_religion                                                                       0.0\n",
       "other_sexual_orientation                                                             0.0\n",
       "physical_disability                                                                  0.0\n",
       "psychiatric_or_mental_illness                                                      False\n",
       "transgender                                                                          0.0\n",
       "white                                                                              False\n",
       "created_date                                               2017-10-27 13:01:59.821989+00\n",
       "publication_id                                                                       102\n",
       "parent_id                                                                            NaN\n",
       "article_id                                                                        393909\n",
       "rating                                                                          approved\n",
       "funny                                                                                  2\n",
       "wow                                                                                    0\n",
       "sad                                                                                    0\n",
       "likes                                                                                  7\n",
       "disagree                                                                               5\n",
       "sexual_explicit                                                                      0.0\n",
       "identity_annotator_count                                                               5\n",
       "toxicity_annotator_count                                                              10\n",
       "Name: 1722267, dtype: object"
      ]
     },
     "execution_count": 13,
     "metadata": {},
     "output_type": "execute_result"
    }
   ],
   "source": [
    "train[train.christian].iloc[5]"
   ]
  },
  {
   "cell_type": "code",
   "execution_count": 11,
   "metadata": {},
   "outputs": [
    {
     "data": {
      "text/plain": [
       "\"The elites, both Democrat and Republican, both tried to grease Trumps's wheels.\""
      ]
     },
     "execution_count": 11,
     "metadata": {},
     "output_type": "execute_result"
    }
   ],
   "source": [
    "## Not a Christian comment\n",
    "train[~train.christian].comment_text.iloc[4]"
   ]
  },
  {
   "cell_type": "code",
   "execution_count": 14,
   "metadata": {},
   "outputs": [
    {
     "data": {
      "text/plain": [
       "id                                                                               6220033\n",
       "target                                                                             False\n",
       "comment_text                           The elites, both Democrat and Republican, both...\n",
       "severe_toxicity                                                                      0.0\n",
       "obscene                                                                              0.0\n",
       "identity_attack                                                                      0.0\n",
       "insult                                                                               0.0\n",
       "threat                                                                               0.0\n",
       "asian                                                                                0.0\n",
       "atheist                                                                              0.0\n",
       "bisexual                                                                             0.0\n",
       "black                                                                              False\n",
       "buddhist                                                                             0.0\n",
       "christian                                                                          False\n",
       "female                                                                             False\n",
       "heterosexual                                                                         0.0\n",
       "hindu                                                                                0.0\n",
       "homosexual_gay_or_lesbian                                                          False\n",
       "intellectual_or_learning_disability                                                  0.0\n",
       "jewish                                                                             False\n",
       "latino                                                                               0.0\n",
       "male                                                                               False\n",
       "muslim                                                                             False\n",
       "other_disability                                                                     0.0\n",
       "other_gender                                                                         0.0\n",
       "other_race_or_ethnicity                                                              0.0\n",
       "other_religion                                                                       0.0\n",
       "other_sexual_orientation                                                             0.0\n",
       "physical_disability                                                                  0.0\n",
       "psychiatric_or_mental_illness                                                      False\n",
       "transgender                                                                          0.0\n",
       "white                                                                              False\n",
       "created_date                                               2017-10-25 15:29:02.303584+00\n",
       "publication_id                                                                        54\n",
       "parent_id                                                                      6219985.0\n",
       "article_id                                                                        393015\n",
       "rating                                                                          approved\n",
       "funny                                                                                  0\n",
       "wow                                                                                    0\n",
       "sad                                                                                    0\n",
       "likes                                                                                  0\n",
       "disagree                                                                               2\n",
       "sexual_explicit                                                                      0.0\n",
       "identity_annotator_count                                                               4\n",
       "toxicity_annotator_count                                                               4\n",
       "Name: 1711194, dtype: object"
      ]
     },
     "execution_count": 14,
     "metadata": {},
     "output_type": "execute_result"
    }
   ],
   "source": [
    "train[~train.christian].iloc[4]"
   ]
  },
  {
   "cell_type": "code",
   "execution_count": null,
   "metadata": {},
   "outputs": [],
   "source": []
  },
  {
   "cell_type": "code",
   "execution_count": null,
   "metadata": {},
   "outputs": [],
   "source": []
  },
  {
   "cell_type": "markdown",
   "metadata": {},
   "source": [
    "---"
   ]
  },
  {
   "cell_type": "markdown",
   "metadata": {},
   "source": [
    "#### Pairwise correlations"
   ]
  },
  {
   "cell_type": "code",
   "execution_count": 38,
   "metadata": {},
   "outputs": [
    {
     "data": {
      "text/plain": [
       "<AxesSubplot:>"
      ]
     },
     "execution_count": 38,
     "metadata": {},
     "output_type": "execute_result"
    },
    {
     "data": {
      "image/png": "[encoded data removed]",
      "text/plain": [
       "<Figure size 1800x720 with 2 Axes>"
      ]
     },
     "metadata": {
      "needs_background": "light"
     },
     "output_type": "display_data"
    }
   ],
   "source": [
    "from sklearn.metrics import normalized_mutual_info_score\n",
    "import matplotlib.pyplot as plt\n",
    "\n",
    "cols = ['severe_toxicity',\n",
    "         'obscene',\n",
    "         'identity_attack',\n",
    "         'insult',\n",
    "         'threat',\n",
    "         'sexual_explicit']\n",
    "\n",
    "train = train[cols]\n",
    "train = train.dropna()\n",
    "\n",
    "dataset = train\n",
    "mi_df = pd.DataFrame(columns=cols, index=cols, dtype=float)\n",
    "for row in mi_df.columns:\n",
    "    for col in mi_df.columns:\n",
    "        mi_df.loc[row, col] = normalized_mutual_info_score(dataset[row].astype(str),\n",
    "                                                           dataset[col].astype(str),\n",
    "                                                           average_method='arithmetic')\n",
    "\n",
    "plt.figure(figsize=(25,10))\n",
    "sns.heatmap(mi_df, annot=True)"
   ]
  },
  {
   "cell_type": "markdown",
   "metadata": {},
   "source": [
    "---"
   ]
  },
  {
   "cell_type": "markdown",
   "metadata": {},
   "source": [
    "#### Text data"
   ]
  },
  {
   "cell_type": "code",
   "execution_count": 21,
   "metadata": {},
   "outputs": [],
   "source": [
    "train_text = pad_text(train[TEXT_COLUMN], tokenizer)\n",
    "train_labels = to_categorical(train[TOXICITY_COLUMN])"
   ]
  },
  {
   "cell_type": "code",
   "execution_count": 29,
   "metadata": {},
   "outputs": [
    {
     "data": {
      "text/plain": [
       "546354    The 1080 hours of student learning time is jus...\n",
       "412488    I think the author is absolutely correct when ...\n",
       "Name: comment_text, dtype: object"
      ]
     },
     "execution_count": 29,
     "metadata": {},
     "output_type": "execute_result"
    }
   ],
   "source": [
    "train[TEXT_COLUMN].iloc[0:2]"
   ]
  },
  {
   "cell_type": "markdown",
   "metadata": {},
   "source": [
    "---"
   ]
  },
  {
   "cell_type": "markdown",
   "metadata": {},
   "source": [
    "### Output"
   ]
  },
  {
   "cell_type": "code",
   "execution_count": 17,
   "metadata": {},
   "outputs": [
    {
     "data": {
      "text/plain": [
       "array([9.02433041e-03, 1.18368752e-01, 1.22536443e-01, 1.25115328e-02,\n",
       "       3.18642543e-03, 2.23132200e-03, 8.24825406e-01, 3.02035093e-01,\n",
       "       1.29422508e-02, 1.88045595e-02, 4.59464937e-02, 2.94275973e-02,\n",
       "       3.24388780e-03, 6.24678060e-02, 9.35081393e-03, 2.22676788e-02,\n",
       "       3.52768987e-01, 4.95862542e-03, 1.33742252e-02, 3.36573929e-01,\n",
       "       2.14248281e-02, 1.97450042e-01, 1.30859006e-03, 1.08422227e-02,\n",
       "       1.98889431e-02, 9.30002984e-03, 1.61680683e-01, 2.30977070e-02,\n",
       "       9.19810776e-03, 6.07676804e-03, 1.72217749e-02, 2.61967117e-03,\n",
       "       1.06260246e-02, 8.58451650e-02, 7.82493725e-02, 7.91529834e-01,\n",
       "       4.36441571e-01, 1.65753681e-02, 6.83006225e-03, 1.93178561e-03,\n",
       "       4.57414193e-03, 1.43695682e-01, 5.57522348e-04, 8.07188749e-02,\n",
       "       1.36943650e-03, 2.02197805e-02, 2.64718253e-02, 8.42280462e-02,\n",
       "       1.10387942e-02, 7.27165351e-03, 2.00898219e-02, 5.65552235e-01,\n",
       "       1.87488161e-02, 2.97811185e-03, 2.66430434e-02, 1.81792043e-02,\n",
       "       5.55669051e-03, 1.02355313e-02, 1.12297153e-02, 5.05662151e-03,\n",
       "       7.23148696e-03, 4.50969227e-02, 1.11908978e-02, 2.70861741e-02,\n",
       "       3.13038193e-02, 2.91734841e-02, 1.51472655e-03, 2.90857372e-03,\n",
       "       6.70507085e-04, 7.37765208e-02, 4.60314378e-03, 5.68209402e-03,\n",
       "       1.01595633e-02, 1.28751490e-02, 4.51304056e-02, 1.79590434e-01,\n",
       "       6.76983083e-03, 3.04375235e-02, 1.52539695e-03, 4.23652418e-02,\n",
       "       1.65744349e-02, 3.96674573e-02, 8.42489600e-01, 9.05246913e-01,\n",
       "       5.98591805e-01, 1.44068804e-02, 1.81743637e-01, 1.00671663e-03,\n",
       "       1.26867555e-02, 1.89595614e-02, 9.93686914e-03, 5.72689474e-02,\n",
       "       1.13978293e-02, 1.49545921e-02, 4.86077070e-02, 6.22333027e-03,\n",
       "       1.71419196e-02, 2.08952446e-02, 8.98097083e-03, 2.16930564e-02],\n",
       "      dtype=float32)"
      ]
     },
     "execution_count": 17,
     "metadata": {},
     "output_type": "execute_result"
    }
   ],
   "source": [
    "## temp\n",
    "preds = model.predict(pad_text(test[TEXT_COLUMN], tokenizer))[:, 1]\n",
    "preds"
   ]
  },
  {
   "cell_type": "markdown",
   "metadata": {},
   "source": [
    "The model outputs probabilities that a given comment is toxic"
   ]
  },
  {
   "cell_type": "markdown",
   "metadata": {},
   "source": [
    "---"
   ]
  }
 ],
 "metadata": {
  "kernelspec": {
   "display_name": "Python 3",
   "language": "python",
   "name": "python3"
  },
  "language_info": {
   "codemirror_mode": {
    "name": "ipython",
    "version": 3
   },
   "file_extension": ".py",
   "mimetype": "text/x-python",
   "name": "python",
   "nbconvert_exporter": "python",
   "pygments_lexer": "ipython3",
   "version": "3.8.8"
  }
 },
 "nbformat": 4,
 "nbformat_minor": 4
}
